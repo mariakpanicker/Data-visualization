{
 "cells": [
  {
   "cell_type": "code",
   "execution_count": 4,
   "metadata": {},
   "outputs": [],
   "source": [
    "import pandas as pd\n",
    "amd =pd.read_csv(\"AMD.csv\")"
   ]
  },
  {
   "cell_type": "code",
   "execution_count": 5,
   "metadata": {},
   "outputs": [],
   "source": [
    "amd=pd.read_csv(\"AMD.csv\",header=0,index_col=\"Date\",parse_dates=True)"
   ]
  },
  {
   "cell_type": "code",
   "execution_count": 7,
   "metadata": {},
   "outputs": [
    {
     "data": {
      "text/html": [
       "<div>\n",
       "<style scoped>\n",
       "    .dataframe tbody tr th:only-of-type {\n",
       "        vertical-align: middle;\n",
       "    }\n",
       "\n",
       "    .dataframe tbody tr th {\n",
       "        vertical-align: top;\n",
       "    }\n",
       "\n",
       "    .dataframe thead th {\n",
       "        text-align: right;\n",
       "    }\n",
       "</style>\n",
       "<table border=\"1\" class=\"dataframe\">\n",
       "  <thead>\n",
       "    <tr style=\"text-align: right;\">\n",
       "      <th></th>\n",
       "      <th>Open</th>\n",
       "      <th>High</th>\n",
       "      <th>Low</th>\n",
       "      <th>Close</th>\n",
       "      <th>Adj Close</th>\n",
       "      <th>Volume</th>\n",
       "    </tr>\n",
       "    <tr>\n",
       "      <th>Date</th>\n",
       "      <th></th>\n",
       "      <th></th>\n",
       "      <th></th>\n",
       "      <th></th>\n",
       "      <th></th>\n",
       "      <th></th>\n",
       "    </tr>\n",
       "  </thead>\n",
       "  <tbody>\n",
       "    <tr>\n",
       "      <th>2000-11-17</th>\n",
       "      <td>20.5625</td>\n",
       "      <td>21.3750</td>\n",
       "      <td>20.0625</td>\n",
       "      <td>20.5625</td>\n",
       "      <td>20.5625</td>\n",
       "      <td>4296900</td>\n",
       "    </tr>\n",
       "    <tr>\n",
       "      <th>2000-11-20</th>\n",
       "      <td>20.2500</td>\n",
       "      <td>21.1875</td>\n",
       "      <td>19.8125</td>\n",
       "      <td>20.3750</td>\n",
       "      <td>20.3750</td>\n",
       "      <td>5611800</td>\n",
       "    </tr>\n",
       "    <tr>\n",
       "      <th>2000-11-21</th>\n",
       "      <td>20.5625</td>\n",
       "      <td>21.1875</td>\n",
       "      <td>19.8125</td>\n",
       "      <td>19.9375</td>\n",
       "      <td>19.9375</td>\n",
       "      <td>4077300</td>\n",
       "    </tr>\n",
       "  </tbody>\n",
       "</table>\n",
       "</div>"
      ],
      "text/plain": [
       "               Open     High      Low    Close  Adj Close   Volume\n",
       "Date                                                              \n",
       "2000-11-17  20.5625  21.3750  20.0625  20.5625    20.5625  4296900\n",
       "2000-11-20  20.2500  21.1875  19.8125  20.3750    20.3750  5611800\n",
       "2000-11-21  20.5625  21.1875  19.8125  19.9375    19.9375  4077300"
      ]
     },
     "execution_count": 7,
     "metadata": {},
     "output_type": "execute_result"
    }
   ],
   "source": [
    "amd.head(n=3)"
   ]
  },
  {
   "cell_type": "code",
   "execution_count": 8,
   "metadata": {},
   "outputs": [],
   "source": [
    "#last 3 row of datase"
   ]
  },
  {
   "cell_type": "code",
   "execution_count": 9,
   "metadata": {},
   "outputs": [
    {
     "data": {
      "text/html": [
       "<div>\n",
       "<style scoped>\n",
       "    .dataframe tbody tr th:only-of-type {\n",
       "        vertical-align: middle;\n",
       "    }\n",
       "\n",
       "    .dataframe tbody tr th {\n",
       "        vertical-align: top;\n",
       "    }\n",
       "\n",
       "    .dataframe thead th {\n",
       "        text-align: right;\n",
       "    }\n",
       "</style>\n",
       "<table border=\"1\" class=\"dataframe\">\n",
       "  <thead>\n",
       "    <tr style=\"text-align: right;\">\n",
       "      <th></th>\n",
       "      <th>Open</th>\n",
       "      <th>High</th>\n",
       "      <th>Low</th>\n",
       "      <th>Close</th>\n",
       "      <th>Adj Close</th>\n",
       "      <th>Volume</th>\n",
       "    </tr>\n",
       "    <tr>\n",
       "      <th>Date</th>\n",
       "      <th></th>\n",
       "      <th></th>\n",
       "      <th></th>\n",
       "      <th></th>\n",
       "      <th></th>\n",
       "      <th></th>\n",
       "    </tr>\n",
       "  </thead>\n",
       "  <tbody>\n",
       "    <tr>\n",
       "      <th>2001-11-14</th>\n",
       "      <td>13.96</td>\n",
       "      <td>14.18</td>\n",
       "      <td>13.31</td>\n",
       "      <td>14.00</td>\n",
       "      <td>14.00</td>\n",
       "      <td>6815700</td>\n",
       "    </tr>\n",
       "    <tr>\n",
       "      <th>2001-11-15</th>\n",
       "      <td>14.00</td>\n",
       "      <td>14.00</td>\n",
       "      <td>13.45</td>\n",
       "      <td>13.75</td>\n",
       "      <td>13.75</td>\n",
       "      <td>5721100</td>\n",
       "    </tr>\n",
       "    <tr>\n",
       "      <th>2001-11-16</th>\n",
       "      <td>13.75</td>\n",
       "      <td>13.80</td>\n",
       "      <td>13.30</td>\n",
       "      <td>13.65</td>\n",
       "      <td>13.65</td>\n",
       "      <td>4251500</td>\n",
       "    </tr>\n",
       "  </tbody>\n",
       "</table>\n",
       "</div>"
      ],
      "text/plain": [
       "             Open   High    Low  Close  Adj Close   Volume\n",
       "Date                                                      \n",
       "2001-11-14  13.96  14.18  13.31  14.00      14.00  6815700\n",
       "2001-11-15  14.00  14.00  13.45  13.75      13.75  5721100\n",
       "2001-11-16  13.75  13.80  13.30  13.65      13.65  4251500"
      ]
     },
     "execution_count": 9,
     "metadata": {},
     "output_type": "execute_result"
    }
   ],
   "source": [
    "amd.tail(n=3)"
   ]
  },
  {
   "cell_type": "code",
   "execution_count": 10,
   "metadata": {},
   "outputs": [
    {
     "data": {
      "text/plain": [
       "pandas.core.frame.DataFrame"
      ]
     },
     "execution_count": 10,
     "metadata": {},
     "output_type": "execute_result"
    }
   ],
   "source": [
    "type(amd)"
   ]
  },
  {
   "cell_type": "code",
   "execution_count": 11,
   "metadata": {},
   "outputs": [
    {
     "data": {
      "text/html": [
       "<div>\n",
       "<style scoped>\n",
       "    .dataframe tbody tr th:only-of-type {\n",
       "        vertical-align: middle;\n",
       "    }\n",
       "\n",
       "    .dataframe tbody tr th {\n",
       "        vertical-align: top;\n",
       "    }\n",
       "\n",
       "    .dataframe thead th {\n",
       "        text-align: right;\n",
       "    }\n",
       "</style>\n",
       "<table border=\"1\" class=\"dataframe\">\n",
       "  <thead>\n",
       "    <tr style=\"text-align: right;\">\n",
       "      <th></th>\n",
       "      <th>Open</th>\n",
       "      <th>High</th>\n",
       "      <th>Low</th>\n",
       "      <th>Close</th>\n",
       "      <th>Adj Close</th>\n",
       "      <th>Volume</th>\n",
       "    </tr>\n",
       "  </thead>\n",
       "  <tbody>\n",
       "    <tr>\n",
       "      <th>count</th>\n",
       "      <td>248.000000</td>\n",
       "      <td>248.000000</td>\n",
       "      <td>248.000000</td>\n",
       "      <td>248.000000</td>\n",
       "      <td>248.000000</td>\n",
       "      <td>2.480000e+02</td>\n",
       "    </tr>\n",
       "    <tr>\n",
       "      <th>mean</th>\n",
       "      <td>20.047470</td>\n",
       "      <td>20.730423</td>\n",
       "      <td>19.330484</td>\n",
       "      <td>20.001522</td>\n",
       "      <td>20.001522</td>\n",
       "      <td>7.600938e+06</td>\n",
       "    </tr>\n",
       "    <tr>\n",
       "      <th>std</th>\n",
       "      <td>6.859398</td>\n",
       "      <td>7.073726</td>\n",
       "      <td>6.711034</td>\n",
       "      <td>6.927144</td>\n",
       "      <td>6.927144</td>\n",
       "      <td>3.412779e+06</td>\n",
       "    </tr>\n",
       "    <tr>\n",
       "      <th>min</th>\n",
       "      <td>7.790000</td>\n",
       "      <td>8.090000</td>\n",
       "      <td>7.690000</td>\n",
       "      <td>7.930000</td>\n",
       "      <td>7.930000</td>\n",
       "      <td>2.168300e+06</td>\n",
       "    </tr>\n",
       "    <tr>\n",
       "      <th>25%</th>\n",
       "      <td>14.507500</td>\n",
       "      <td>14.799375</td>\n",
       "      <td>14.143750</td>\n",
       "      <td>14.454375</td>\n",
       "      <td>14.454375</td>\n",
       "      <td>5.299675e+06</td>\n",
       "    </tr>\n",
       "    <tr>\n",
       "      <th>50%</th>\n",
       "      <td>20.337499</td>\n",
       "      <td>21.193751</td>\n",
       "      <td>19.675000</td>\n",
       "      <td>20.397500</td>\n",
       "      <td>20.397500</td>\n",
       "      <td>7.037850e+06</td>\n",
       "    </tr>\n",
       "    <tr>\n",
       "      <th>75%</th>\n",
       "      <td>25.074999</td>\n",
       "      <td>26.062499</td>\n",
       "      <td>24.245000</td>\n",
       "      <td>25.147500</td>\n",
       "      <td>25.147500</td>\n",
       "      <td>9.187000e+06</td>\n",
       "    </tr>\n",
       "    <tr>\n",
       "      <th>max</th>\n",
       "      <td>34.000000</td>\n",
       "      <td>34.650002</td>\n",
       "      <td>33.400002</td>\n",
       "      <td>34.400002</td>\n",
       "      <td>34.400002</td>\n",
       "      <td>2.613370e+07</td>\n",
       "    </tr>\n",
       "  </tbody>\n",
       "</table>\n",
       "</div>"
      ],
      "text/plain": [
       "             Open        High         Low       Close   Adj Close  \\\n",
       "count  248.000000  248.000000  248.000000  248.000000  248.000000   \n",
       "mean    20.047470   20.730423   19.330484   20.001522   20.001522   \n",
       "std      6.859398    7.073726    6.711034    6.927144    6.927144   \n",
       "min      7.790000    8.090000    7.690000    7.930000    7.930000   \n",
       "25%     14.507500   14.799375   14.143750   14.454375   14.454375   \n",
       "50%     20.337499   21.193751   19.675000   20.397500   20.397500   \n",
       "75%     25.074999   26.062499   24.245000   25.147500   25.147500   \n",
       "max     34.000000   34.650002   33.400002   34.400002   34.400002   \n",
       "\n",
       "             Volume  \n",
       "count  2.480000e+02  \n",
       "mean   7.600938e+06  \n",
       "std    3.412779e+06  \n",
       "min    2.168300e+06  \n",
       "25%    5.299675e+06  \n",
       "50%    7.037850e+06  \n",
       "75%    9.187000e+06  \n",
       "max    2.613370e+07  "
      ]
     },
     "execution_count": 11,
     "metadata": {},
     "output_type": "execute_result"
    }
   ],
   "source": [
    "amd.describe()"
   ]
  },
  {
   "cell_type": "code",
   "execution_count": 13,
   "metadata": {},
   "outputs": [
    {
     "data": {
      "text/plain": [
       "Index(['Open', 'High', 'Low', 'Close', 'Adj Close', 'Volume'], dtype='object')"
      ]
     },
     "execution_count": 13,
     "metadata": {},
     "output_type": "execute_result"
    }
   ],
   "source": [
    "amd.columns"
   ]
  },
  {
   "cell_type": "code",
   "execution_count": 14,
   "metadata": {},
   "outputs": [
    {
     "data": {
      "text/plain": [
       "DatetimeIndex(['2000-11-17', '2000-11-20', '2000-11-21', '2000-11-22',\n",
       "               '2000-11-24', '2000-11-27', '2000-11-28', '2000-11-29',\n",
       "               '2000-11-30', '2000-12-01',\n",
       "               ...\n",
       "               '2001-11-05', '2001-11-06', '2001-11-07', '2001-11-08',\n",
       "               '2001-11-09', '2001-11-12', '2001-11-13', '2001-11-14',\n",
       "               '2001-11-15', '2001-11-16'],\n",
       "              dtype='datetime64[ns]', name='Date', length=248, freq=None)"
      ]
     },
     "execution_count": 14,
     "metadata": {},
     "output_type": "execute_result"
    }
   ],
   "source": [
    "amd.index"
   ]
  },
  {
   "cell_type": "code",
   "execution_count": 15,
   "metadata": {},
   "outputs": [
    {
     "data": {
      "text/plain": [
       "(248, 6)"
      ]
     },
     "execution_count": 15,
     "metadata": {},
     "output_type": "execute_result"
    }
   ],
   "source": [
    "amd.shape"
   ]
  },
  {
   "cell_type": "code",
   "execution_count": 16,
   "metadata": {},
   "outputs": [],
   "source": [
    " #time series data --track movement of stock price \n",
    "    "
   ]
  },
  {
   "cell_type": "code",
   "execution_count": 17,
   "metadata": {},
   "outputs": [],
   "source": [
    "import matplotlib.pyplot as plt\n",
    "%matplotlib inline"
   ]
  },
  {
   "cell_type": "code",
   "execution_count": 36,
   "metadata": {},
   "outputs": [],
   "source": [
    "import matplotlib.dates as mdates"
   ]
  },
  {
   "cell_type": "code",
   "execution_count": 37,
   "metadata": {},
   "outputs": [],
   "source": [
    " #plote the date and the adj close of stock "
   ]
  },
  {
   "cell_type": "code",
   "execution_count": 47,
   "metadata": {},
   "outputs": [
    {
     "data": {
      "image/png": "[encoded data removed]",
      "text/plain": [
       "<Figure size 432x288 with 1 Axes>"
      ]
     },
     "metadata": {
      "needs_background": "light"
     },
     "output_type": "display_data"
    },
    {
     "data": {
      "image/png": "[encoded data removed]",
      "text/plain": [
       "<Figure size 432x288 with 1 Axes>"
      ]
     },
     "metadata": {
      "needs_background": "light"
     },
     "output_type": "display_data"
    }
   ],
   "source": [
    "\n",
    "plt.plot(amd.index,amd['Adj Close'])\n",
    "plt.show()\n",
    "plt.gca().xaxis.set_major_formatter(mdates.DateFormatter(\"%y\"))\n",
    "plt.gca().xaxis.set_major_locator(mdates.YearLocator())"
   ]
  },
  {
   "cell_type": "code",
   "execution_count": 39,
   "metadata": {},
   "outputs": [],
   "source": [
    " #"
   ]
  },
  {
   "cell_type": "code",
   "execution_count": null,
   "metadata": {},
   "outputs": [],
   "source": []
  },
  {
   "cell_type": "code",
   "execution_count": null,
   "metadata": {},
   "outputs": [],
   "source": []
  },
  {
   "cell_type": "code",
   "execution_count": null,
   "metadata": {},
   "outputs": [],
   "source": []
  }
 ],
 "metadata": {
  "kernelspec": {
   "display_name": "Python 3",
   "language": "python",
   "name": "python3"
  },
  "language_info": {
   "codemirror_mode": {
    "name": "ipython",
    "version": 3
   },
   "file_extension": ".py",
   "mimetype": "text/x-python",
   "name": "python",
   "nbconvert_exporter": "python",
   "pygments_lexer": "ipython3",
   "version": "3.8.3"
  }
 },
 "nbformat": 4,
 "nbformat_minor": 4
}
